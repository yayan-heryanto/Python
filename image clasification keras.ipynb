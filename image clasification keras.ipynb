{
 "cells": [
  {
   "cell_type": "code",
   "execution_count": 25,
   "id": "aba4a2b4",
   "metadata": {},
   "outputs": [
    {
     "name": "stdout",
     "output_type": "stream",
     "text": [
      "1/1 [==============================] - 3s 3s/step\n",
      "wallaby: 98.14%\n",
      "ibex: 0.45%\n",
      "hare: 0.36%\n"
     ]
    }
   ],
   "source": [
    "import tensorflow as tf\n",
    "from tensorflow.keras.preprocessing import image\n",
    "from tensorflow.keras.applications.resnet50 import preprocess_input, decode_predictions\n",
    "import numpy as np\n",
    "\n",
    "# Load the pre-trained ResNet50 model\n",
    "model = tf.keras.applications.ResNet101(weights='imagenet')\n",
    "\n",
    "# Function to classify the image\n",
    "def classify_image(img_path):\n",
    "    img = image.load_img(img_path, target_size=(224, 224))\n",
    "    img_array = image.img_to_array(img)\n",
    "    img_preprocessed = preprocess_input(np.expand_dims(img_array, axis=0))\n",
    "\n",
    "    predictions = model.predict(img_preprocessed)\n",
    "    decoded_predictions = decode_predictions(predictions, top=3)[0]\n",
    "\n",
    "    results = []\n",
    "    for _, label, probability in decoded_predictions:\n",
    "        results.append((label, probability))\n",
    "\n",
    "    return results\n",
    "\n",
    "# Path to the test image\n",
    "test_image_path = \"E:/Kuliah/Template IJACSA/Jurnal Image Prediction/gambar yang akan di prediksi/archive_Animal/animals/animals/kangaroo/1e9af10c92.jpg\"\n",
    "\n",
    "# Classify the image\n",
    "predictions = classify_image(test_image_path)\n",
    "\n",
    "# Print the predictions\n",
    "for label, probability in predictions:\n",
    "    print(f\"{label}: {probability:.2%}\")"
   ]
  },
  {
   "cell_type": "code",
   "execution_count": null,
   "id": "171a8101",
   "metadata": {},
   "outputs": [],
   "source": []
  }
 ],
 "metadata": {
  "kernelspec": {
   "display_name": "Python 3 (ipykernel)",
   "language": "python",
   "name": "python3"
  },
  "language_info": {
   "codemirror_mode": {
    "name": "ipython",
    "version": 3
   },
   "file_extension": ".py",
   "mimetype": "text/x-python",
   "name": "python",
   "nbconvert_exporter": "python",
   "pygments_lexer": "ipython3",
   "version": "3.9.13"
  }
 },
 "nbformat": 4,
 "nbformat_minor": 5
}
